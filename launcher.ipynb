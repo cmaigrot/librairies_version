{
 "cells": [
  {
   "cell_type": "markdown",
   "metadata": {},
   "source": [
    "# This program summaries the versions of the Python librairies for a list of servers\n",
    "\n",
    "The servers list is :"
   ]
  },
  {
   "cell_type": "code",
   "execution_count": 2,
   "metadata": {},
   "outputs": [],
   "source": [
    "servers = ['carex', 'latex', 'pyrex', 'silex', 'solex', 'vortex', 'sirex']"
   ]
  },
  {
   "cell_type": "markdown",
   "metadata": {},
   "source": [
    "The following function get the versions of the librairies based on a servername :"
   ]
  },
  {
   "cell_type": "code",
   "execution_count": 3,
   "metadata": {},
   "outputs": [],
   "source": [
    "import os, sys, fabric\n",
    "\n",
    "def get_versions(servername):\n",
    "    c = fabric.Connection(servername)\n",
    "    uname = c.run('uname -s', hide=True)\n",
    "    if 'Linux' in uname.stdout:\n",
    "        command = \"python ~/Documents/versionScript.py\"\n",
    "        return c.run(command, hide=True).stdout\n",
    "    err = \"No idea how to get disk space on {}!\".format(uname)\n",
    "    raise Exit(err)"
   ]
  },
  {
   "cell_type": "code",
   "execution_count": 4,
   "metadata": {},
   "outputs": [
    {
     "name": "stdout",
     "output_type": "stream",
     "text": [
      "Error with this server : sirex\n"
     ]
    }
   ],
   "source": [
    "\n",
    "results = {}\n",
    "\n",
    "for name in servers:\n",
    "    try:\n",
    "        result = get_versions(name)\n",
    "        for lib in result.split(\"\\n\"):\n",
    "            items = lib.split(\"\\t\")\n",
    "            if len(items) == 2:\n",
    "                if items[0] not in results.keys():\n",
    "                    results[items[0]] = []\n",
    "                results[items[0]].append([name, items[1]])\n",
    "    except:\n",
    "        print (\"Error with this server :\", name)\n"
   ]
  },
  {
   "cell_type": "code",
   "execution_count": 9,
   "metadata": {},
   "outputs": [
    {
     "name": "stdout",
     "output_type": "stream",
     "text": [
      "sympy \t [['carex', '1.1.1'], ['latex', '1.1.1'], ['pyrex', '1.1.1'], ['silex', '1.1.1'], ['solex', '1.1.1'], ['vortex', '1.1.1']]\n",
      "pandas \t [['carex', '0.20.3'], ['latex', '0.20.3'], ['pyrex', '0.20.3'], ['silex', '0.20.3'], ['solex', '0.20.3'], ['vortex', '0.20.3']]\n",
      "matplotlib \t [['carex', '2.1.2'], ['latex', '2.1.2'], ['pyrex', '2.1.2'], ['silex', '2.1.2'], ['solex', '2.1.2'], ['vortex', '2.1.2']]\n",
      "scrapy \t [['carex', 'NaN'], ['latex', 'NaN'], ['pyrex', 'NaN'], ['silex', 'NaN'], ['solex', 'NaN'], ['vortex', 'NaN']]\n",
      "plotly \t [['carex', '2.1.0'], ['latex', '2.1.0'], ['pyrex', '2.1.0'], ['silex', '2.1.0'], ['solex', '2.1.0'], ['vortex', '2.1.0']]\n",
      "treetaggerwrapper \t [['carex', '2.2.3'], ['latex', '2.2.3'], ['pyrex', '2.2.3'], ['silex', '2.2.3'], ['solex', '2.2.3'], ['vortex', '2.2.3']]\n",
      "seaborn \t [['carex', '0.8.1'], ['latex', '0.8.1'], ['pyrex', '0.8.1'], ['silex', '0.8.1'], ['solex', '0.8.1'], ['vortex', '0.8.1']]\n",
      "theano \t [['carex', '1.0.1'], ['latex', '1.0.1'], ['pyrex', '1.0.1'], ['silex', '1.0.1'], ['solex', '1.0.1'], ['vortex', '1.0.1']]\n",
      "gensim \t [['carex', '3.4.0'], ['latex', '3.4.0'], ['pyrex', '3.4.0'], ['silex', '3.4.0'], ['solex', '3.4.0'], ['vortex', '3.4.0']]\n",
      "cv2 \t [['carex', '3.3.0'], ['latex', '3.3.0'], ['pyrex', '3.3.0'], ['silex', '3.3.0'], ['solex', '3.3.0'], ['vortex', '3.3.0']]\n",
      "scipy \t [['carex', '1.1.0'], ['latex', '1.1.0'], ['pyrex', '1.1.0'], ['silex', '1.1.0'], ['solex', '1.1.0'], ['vortex', '1.1.0']]\n",
      "pymc \t [['carex', 'NaN'], ['latex', 'NaN'], ['pyrex', 'NaN'], ['silex', 'NaN'], ['solex', 'NaN'], ['vortex', 'NaN']]\n",
      "keras \t [['carex', '2.0.8'], ['latex', '2.0.8'], ['pyrex', '2.0.8'], ['silex', '2.0.8'], ['solex', '2.0.8'], ['vortex', '2.0.8']]\n",
      "nltk \t [['carex', '3.2.5'], ['latex', '3.2.5'], ['pyrex', '3.2.5'], ['silex', '3.2.5'], ['solex', '3.2.5'], ['vortex', '3.2.5']]\n",
      "tensorflow \t [['carex', '1.3.0'], ['latex', '1.3.0'], ['pyrex', 'NaN'], ['silex', '1.3.0'], ['solex', 'NaN'], ['vortex', '1.3.0']]\n",
      "h5py \t [['carex', '2.7.1'], ['latex', '2.7.1'], ['pyrex', '2.7.1'], ['silex', '2.7.1'], ['solex', '2.7.1'], ['vortex', '2.7.1']]\n",
      "sklearn \t [['carex', '0.19.0'], ['latex', '0.19.0'], ['pyrex', '0.19.0'], ['silex', '0.19.0'], ['solex', '0.19.0'], ['vortex', '0.19.0']]\n",
      "shogun \t [['carex', 'NaN'], ['latex', 'NaN'], ['pyrex', 'NaN'], ['silex', 'NaN'], ['solex', 'NaN'], ['vortex', 'NaN']]\n",
      "statsmodels \t [['carex', 'NaN'], ['latex', 'NaN'], ['pyrex', 'NaN'], ['silex', 'NaN'], ['solex', 'NaN'], ['vortex', 'NaN']]\n",
      "bokeh \t [['carex', '0.12.15'], ['latex', '0.12.15'], ['pyrex', '0.12.15'], ['silex', '0.12.15'], ['solex', '0.12.15'], ['vortex', '0.12.15']]\n",
      "nympy \t [['carex', '1.14.3'], ['latex', '1.14.3'], ['pyrex', '1.14.3'], ['silex', '1.14.3'], ['solex', '1.14.3'], ['vortex', '1.14.3']]\n",
      "pylearn2 \t [['carex', 'NaN'], ['latex', 'NaN'], ['pyrex', 'NaN'], ['silex', 'NaN'], ['solex', 'NaN'], ['vortex', 'NaN']]\n"
     ]
    }
   ],
   "source": [
    "for x in results:\n",
    "    print (x, \"\\t\", results[x])"
   ]
  },
  {
   "cell_type": "code",
   "execution_count": null,
   "metadata": {},
   "outputs": [],
   "source": []
  }
 ],
 "metadata": {
  "kernelspec": {
   "display_name": "Python 3",
   "language": "python",
   "name": "python3"
  },
  "language_info": {
   "codemirror_mode": {
    "name": "ipython",
    "version": 3
   },
   "file_extension": ".py",
   "mimetype": "text/x-python",
   "name": "python",
   "nbconvert_exporter": "python",
   "pygments_lexer": "ipython3",
   "version": "3.5.2"
  }
 },
 "nbformat": 4,
 "nbformat_minor": 2
}
